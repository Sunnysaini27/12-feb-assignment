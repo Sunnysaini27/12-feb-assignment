{
 "cells": [
  {
   "cell_type": "code",
   "execution_count": 1,
   "id": "aecd0c97-cb25-4385-b438-02f8da5a3a37",
   "metadata": {},
   "outputs": [
    {
     "data": {
      "text/plain": [
       "'\\n   An exception is the result of an unpredicted event that occurs while your program is running,\\n   and prevents the program from doing what it should. As a result, the program throws an exception code.\\n   \\n   An exception is different from a syntax error. Errors can cause your program to crash or produce false\\n   results. They’re the result of a programming error, and the developer must correct them.\\n   A syntax error causes the program to terminate because the interpreter cannot interpret.\\n'"
      ]
     },
     "execution_count": 1,
     "metadata": {},
     "output_type": "execute_result"
    }
   ],
   "source": [
    "#1\n",
    "'''\n",
    "   An exception is the result of an unpredicted event that occurs while your program is running,\n",
    "   and prevents the program from doing what it should. As a result, the program throws an exception code.\n",
    "   \n",
    "   An exception is different from a syntax error. Errors can cause your program to crash or produce false\n",
    "   results. They’re the result of a programming error, and the developer must correct them.\n",
    "   A syntax error causes the program to terminate because the interpreter cannot interpret.\n",
    "'''"
   ]
  },
  {
   "cell_type": "code",
   "execution_count": 2,
   "id": "5d50898e-30da-4ab3-b4da-c39e1ec9b386",
   "metadata": {},
   "outputs": [
    {
     "ename": "ZeroDivisionError",
     "evalue": "division by zero",
     "output_type": "error",
     "traceback": [
      "\u001b[0;31m---------------------------------------------------------------------------\u001b[0m",
      "\u001b[0;31mZeroDivisionError\u001b[0m                         Traceback (most recent call last)",
      "Cell \u001b[0;32mIn [2], line 8\u001b[0m\n\u001b[1;32m      2\u001b[0m \u001b[38;5;124;03m'''\u001b[39;00m\n\u001b[1;32m      3\u001b[0m \u001b[38;5;124;03m   Python has many built-in exceptions which forces your program to output an error when something in it\u001b[39;00m\n\u001b[1;32m      4\u001b[0m \u001b[38;5;124;03m   goes wrong. When these exceptions occur, it causes the current process to stop and passes it to the calling\u001b[39;00m\n\u001b[1;32m      5\u001b[0m \u001b[38;5;124;03m   process until it is handled. If not handled, our program will crash.\u001b[39;00m\n\u001b[1;32m      6\u001b[0m \u001b[38;5;124;03m'''\u001b[39;00m\n\u001b[1;32m      7\u001b[0m  \u001b[38;5;66;03m#example\u001b[39;00m\n\u001b[0;32m----> 8\u001b[0m \u001b[38;5;241;43m10\u001b[39;49m\u001b[38;5;241;43m/\u001b[39;49m\u001b[38;5;241;43m0\u001b[39;49m\n",
      "\u001b[0;31mZeroDivisionError\u001b[0m: division by zero"
     ]
    }
   ],
   "source": [
    "#2\n",
    "'''\n",
    "   Python has many built-in exceptions which forces your program to output an error when something in it\n",
    "   goes wrong. When these exceptions occur, it causes the current process to stop and passes it to the calling\n",
    "   process until it is handled. If not handled, our program will crash.\n",
    "'''\n",
    " #example\n",
    "10/0"
   ]
  },
  {
   "cell_type": "code",
   "execution_count": 4,
   "id": "6abb0d49-521e-4804-98e2-07a1389a9334",
   "metadata": {},
   "outputs": [
    {
     "name": "stdout",
     "output_type": "stream",
     "text": [
      "division by zero\n"
     ]
    }
   ],
   "source": [
    "#3\n",
    "#Try and except statements are used to catch and handle exceptions in Python.\n",
    "#example\n",
    "try:\n",
    "    a=4\n",
    "    sum = a/0\n",
    "except ZeroDivisionError as e:\n",
    "    print(e)"
   ]
  },
  {
   "cell_type": "code",
   "execution_count": 5,
   "id": "26f4dcbb-d1f6-4a54-aa77-d092bf8e00e2",
   "metadata": {},
   "outputs": [
    {
     "name": "stdout",
     "output_type": "stream",
     "text": [
      "this will be executed once your try will execute without error \n"
     ]
    }
   ],
   "source": [
    "#4\n",
    "#try and else\n",
    "try :\n",
    "    f = open(\"txt1.txt\", \"w\")\n",
    "    f.write(\"write into my file\")\n",
    "except Exception as e :\n",
    "    print(\"this is my print\", e)\n",
    "else:\n",
    "    f.close()\n",
    "    print(\"this will be executed once your try will execute without error \")"
   ]
  },
  {
   "cell_type": "code",
   "execution_count": 6,
   "id": "35bd246d-0375-43dc-87e4-4ec8f116a2c2",
   "metadata": {},
   "outputs": [
    {
     "name": "stdout",
     "output_type": "stream",
     "text": [
      "finally wiil execute in any sitution\n"
     ]
    },
    {
     "ename": "UnsupportedOperation",
     "evalue": "not writable",
     "output_type": "error",
     "traceback": [
      "\u001b[0;31m---------------------------------------------------------------------------\u001b[0m",
      "\u001b[0;31mUnsupportedOperation\u001b[0m                      Traceback (most recent call last)",
      "Cell \u001b[0;32mIn [6], line 4\u001b[0m\n\u001b[1;32m      2\u001b[0m \u001b[38;5;28;01mtry\u001b[39;00m :\n\u001b[1;32m      3\u001b[0m     f \u001b[38;5;241m=\u001b[39m \u001b[38;5;28mopen\u001b[39m(\u001b[38;5;124m\"\u001b[39m\u001b[38;5;124mtxtt2.txt\u001b[39m\u001b[38;5;124m\"\u001b[39m, \u001b[38;5;124m\"\u001b[39m\u001b[38;5;124mr\u001b[39m\u001b[38;5;124m\"\u001b[39m)\n\u001b[0;32m----> 4\u001b[0m     \u001b[43mf\u001b[49m\u001b[38;5;241;43m.\u001b[39;49m\u001b[43mwrite\u001b[49m\u001b[43m(\u001b[49m\u001b[38;5;124;43m\"\u001b[39;49m\u001b[38;5;124;43mwrite something\u001b[39;49m\u001b[38;5;124;43m\"\u001b[39;49m\u001b[43m)\u001b[49m\n\u001b[1;32m      5\u001b[0m \u001b[38;5;28;01mfinally\u001b[39;00m :\n\u001b[1;32m      6\u001b[0m     \u001b[38;5;28mprint\u001b[39m(\u001b[38;5;124m\"\u001b[39m\u001b[38;5;124mfinally wiil execute in any sitution\u001b[39m\u001b[38;5;124m\"\u001b[39m)\n",
      "\u001b[0;31mUnsupportedOperation\u001b[0m: not writable"
     ]
    }
   ],
   "source": [
    "#finally\n",
    "try :\n",
    "    f = open(\"txtt2.txt\", \"r\")\n",
    "    f.write(\"write something\")\n",
    "finally :\n",
    "    print(\"finally wiil execute in any sitution\")"
   ]
  },
  {
   "cell_type": "code",
   "execution_count": 7,
   "id": "4c480a80-f9cb-4e33-9c62-f8434aa47672",
   "metadata": {},
   "outputs": [
    {
     "ename": "TypeError",
     "evalue": "Only integers are allowed",
     "output_type": "error",
     "traceback": [
      "\u001b[0;31m---------------------------------------------------------------------------\u001b[0m",
      "\u001b[0;31mTypeError\u001b[0m                                 Traceback (most recent call last)",
      "Cell \u001b[0;32mIn [7], line 5\u001b[0m\n\u001b[1;32m      2\u001b[0m x \u001b[38;5;241m=\u001b[39m \u001b[38;5;124m\"\u001b[39m\u001b[38;5;124mhello\u001b[39m\u001b[38;5;124m\"\u001b[39m\n\u001b[1;32m      4\u001b[0m \u001b[38;5;28;01mif\u001b[39;00m \u001b[38;5;129;01mnot\u001b[39;00m \u001b[38;5;28mtype\u001b[39m(x) \u001b[38;5;129;01mis\u001b[39;00m \u001b[38;5;28mint\u001b[39m:\n\u001b[0;32m----> 5\u001b[0m   \u001b[38;5;28;01mraise\u001b[39;00m \u001b[38;5;167;01mTypeError\u001b[39;00m(\u001b[38;5;124m\"\u001b[39m\u001b[38;5;124mOnly integers are allowed\u001b[39m\u001b[38;5;124m\"\u001b[39m)\n",
      "\u001b[0;31mTypeError\u001b[0m: Only integers are allowed"
     ]
    }
   ],
   "source": [
    "#raise\n",
    "x = \"hello\"\n",
    "\n",
    "if not type(x) is int:\n",
    "  raise TypeError(\"Only integers are allowed\")"
   ]
  },
  {
   "cell_type": "code",
   "execution_count": null,
   "id": "b05f7e59-7df6-443a-81fb-3f326ba4b2d9",
   "metadata": {},
   "outputs": [],
   "source": [
    "#5\n",
    "'''Custom Exception is a user-defined Exception which inherits from the Exception class. \n",
    "   When we are developing a large Python program, it is a good practice to place all the\n",
    "   user-defined exceptions that our program raises in a separate file.'''\n",
    "# define Python user-defined exceptions\n",
    "class InvalidAgeException(Exception):\n",
    "    \"Raised when the input value is less than 18\"\n",
    "    pass\n",
    "\n",
    "# you need to guess this number\n",
    "number = 18\n",
    "\n",
    "try:\n",
    "    input_num = int(input(\"Enter a number: \"))\n",
    "    if input_num < number:\n",
    "        raise InvalidAgeException\n",
    "    else:\n",
    "        print(\"Eligible to Vote\")\n",
    "        \n",
    "except InvalidAgeException:\n",
    "    print(\"Exception occurred: Invalid Age\")"
   ]
  },
  {
   "cell_type": "code",
   "execution_count": null,
   "id": "685179d1-e21c-4b7d-93b8-79b27418c142",
   "metadata": {},
   "outputs": [],
   "source": []
  },
  {
   "cell_type": "code",
   "execution_count": 8,
   "id": "42f582f1-192c-40c4-a3b0-24bc336d9748",
   "metadata": {},
   "outputs": [],
   "source": [
    "#6\n",
    "class validate_age(Exception):\n",
    "    def __init__(self, msz):\n",
    "        self.msz = msz"
   ]
  },
  {
   "cell_type": "code",
   "execution_count": 9,
   "id": "839ec785-2328-4a7d-b43e-2ef5fa76e257",
   "metadata": {},
   "outputs": [],
   "source": [
    "def validaate_age(age):\n",
    "    if age < 0 :\n",
    "        raise validate_age(\"enter age negetive\")\n",
    "    elif age>200:\n",
    "        raise validate_age(\"enter age is very very high\")\n",
    "    else: print(\"age is valid\")"
   ]
  },
  {
   "cell_type": "code",
   "execution_count": 10,
   "id": "72be80d4-b830-4b38-9c17-75308c44fe35",
   "metadata": {},
   "outputs": [
    {
     "name": "stdin",
     "output_type": "stream",
     "text": [
      "enter your age 212\n"
     ]
    },
    {
     "name": "stdout",
     "output_type": "stream",
     "text": [
      "enter age is very very high\n"
     ]
    }
   ],
   "source": [
    "try:\n",
    "    age = int(input(\"enter your age\"))\n",
    "    validaate_age(age)\n",
    "except validate_age as e :\n",
    "    print(e)"
   ]
  },
  {
   "cell_type": "code",
   "execution_count": null,
   "id": "54d02cdc-7256-4e55-9fd0-2187a8288d22",
   "metadata": {},
   "outputs": [],
   "source": [
    "\n"
   ]
  }
 ],
 "metadata": {
  "kernelspec": {
   "display_name": "Python 3 (ipykernel)",
   "language": "python",
   "name": "python3"
  },
  "language_info": {
   "codemirror_mode": {
    "name": "ipython",
    "version": 3
   },
   "file_extension": ".py",
   "mimetype": "text/x-python",
   "name": "python",
   "nbconvert_exporter": "python",
   "pygments_lexer": "ipython3",
   "version": "3.10.6"
  }
 },
 "nbformat": 4,
 "nbformat_minor": 5
}
